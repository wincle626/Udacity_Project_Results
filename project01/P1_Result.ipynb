{
 "cells": [
  {
   "cell_type": "markdown",
   "metadata": {},
   "source": [
    "# Self-Driving Car Engineer Nanodegree\n",
    "\n",
    "\n",
    "## Project: **Finding Lane Lines on the Road** \n",
    "***\n",
    "In this project, we are going to identify the lane mark on the road in a video,anotate the lane mark and output the anotated video. \n",
    "---"
   ]
  },
  {
   "cell_type": "markdown",
   "metadata": {},
   "source": [
    "## Import Packages"
   ]
  },
  {
   "cell_type": "code",
   "execution_count": null,
   "metadata": {
    "collapsed": true
   },
   "outputs": [],
   "source": [
    "#importing some useful packages\n",
    "import matplotlib as mp\n",
    "import matplotlib.pyplot as plt\n",
    "import matplotlib.image as mpimg\n",
    "import numpy as np\n",
    "import cv2\n",
    "import math"
   ]
  },
  {
   "cell_type": "markdown",
   "metadata": {},
   "source": [
    "## Helper Functions"
   ]
  },
  {
   "cell_type": "markdown",
   "metadata": {},
   "source": [
    "Below are some helper functions to help get you started. They should look familiar from the lesson!"
   ]
  },
  {
   "cell_type": "code",
   "execution_count": null,
   "metadata": {
    "collapsed": true
   },
   "outputs": [],
   "source": [
    "def convert_hsv(image):\n",
    "    return cv2.cvtColor(image, cv2.COLOR_RGB2HSV)\n",
    "\n",
    "def convert_hls(image):\n",
    "    return cv2.cvtColor(image, cv2.COLOR_RGB2HLS)\n",
    "\n",
    "def mask_whiteyellow(image):\n",
    "    hls = convert_hls(image)\n",
    "    # hsv = convert_hsv(image)\n",
    "    # white color mask\n",
    "    lower = np.uint8([ 0, 200, 0 ])\n",
    "    upper = np.uint8([ 255, 255, 255 ])\n",
    "    white_mask = cv2.inRange(hls, lower, upper)\n",
    "    # yellow color mask\n",
    "    lower = np.uint8([ 20, 120, 80 ])\n",
    "    upper = np.uint8([ 100, 200, 255 ])\n",
    "    yellow_mask = cv2.inRange(hls, lower, upper)\n",
    "    # combine the mask\n",
    "    mask = cv2.bitwise_or(white_mask, yellow_mask)\n",
    "    maskimage = cv2.bitwise_and(image, image, mask = mask)\n",
    "    return maskimage"
   ]
  },
  {
   "cell_type": "code",
   "execution_count": null,
   "metadata": {
    "collapsed": true
   },
   "outputs": [],
   "source": [
    "def grayscale(img):\n",
    "    return cv2.cvtColor(img, cv2.COLOR_RGB2GRAY)\n",
    "    # Or use BGR2GRAY if you read an image with cv2.imread()\n",
    "    # return cv2.cvtColor(img, cv2.COLOR_BGR2GRAY)"
   ]
  },
  {
   "cell_type": "code",
   "execution_count": null,
   "metadata": {
    "collapsed": true
   },
   "outputs": [],
   "source": [
    "def gaussian_blur(img, kernel_size):\n",
    "    return cv2.GaussianBlur(img, (kernel_size, kernel_size), 0)"
   ]
  },
  {
   "cell_type": "code",
   "execution_count": null,
   "metadata": {
    "collapsed": true
   },
   "outputs": [],
   "source": [
    "    \n",
    "def canny(img, low_threshold, high_threshold):\n",
    "    return cv2.Canny(img, low_threshold, high_threshold)"
   ]
  },
  {
   "cell_type": "code",
   "execution_count": null,
   "metadata": {
    "collapsed": true
   },
   "outputs": [],
   "source": [
    "def region_of_interest(img, vertices):\n",
    "    #defining a blank mask to start with\n",
    "    mask = np.zeros_like(img)   \n",
    "    \n",
    "    #defining a 3 channel or 1 channel color to fill the mask with depending on the input image\n",
    "    if len(img.shape) > 2:\n",
    "        channel_count = img.shape[2]  # i.e. 3 or 4 depending on your image\n",
    "        ignore_mask_color = (255,) * channel_count\n",
    "    else:\n",
    "        ignore_mask_color = 255\n",
    "        \n",
    "    #filling pixels inside the polygon defined by \"vertices\" with the fill color    \n",
    "    cv2.fillPoly(mask, vertices, ignore_mask_color)\n",
    "    \n",
    "    #returning the image only where mask pixels are nonzero\n",
    "    masked_image = cv2.bitwise_and(img, mask)\n",
    "    return masked_image"
   ]
  },
  {
   "cell_type": "code",
   "execution_count": null,
   "metadata": {
    "collapsed": true
   },
   "outputs": [],
   "source": [
    "def draw_lines(img, lines, color=[255, 0, 0], thickness=2):\n",
    "    for line in lines:\n",
    "        for x1,y1,x2,y2 in line:\n",
    "            cv2.line(img, (x1, y1), (x2, y2), color, thickness)\n",
    "\n",
    "def hough_lines(img, rho, theta, threshold, min_line_len, max_line_gap):\n",
    "    lines = cv2.HoughLinesP(img, rho, theta, threshold, np.array([]), minLineLength=min_line_len, maxLineGap=max_line_gap)\n",
    "    line_img = np.zeros((img.shape[0], img.shape[1], 3), dtype=np.uint8)\n",
    "    draw_lines(line_img, lines)\n",
    "    return line_img, lines\n",
    "\n",
    "# Python 3 has support for cool math symbols.\n",
    "\n",
    "def weighted_img(img, initial_img, α=0.8, β=1., γ=1.):\n",
    "    return cv2.addWeighted(initial_img, α, img, β, γ)\n",
    "\n",
    "\n",
    "def line_detect(image):\n",
    "    # Additional pipeline of masking white and yellow color on image\n",
    "    whiteyellowimage = mask_whiteyellow(image)\n",
    "    # First pipeline is to do gray scale\n",
    "    grayimage = grayscale(whiteyellowimage)\n",
    "    # Second pipeline is to Gaussion blur and Canny detection\n",
    "    kernel_size = 5\n",
    "    gausimage = gaussian_blur(grayimage, kernel_size)\n",
    "    # Third pipeline is to do Canny detect\n",
    "    low_threshold = 50\n",
    "    high_threshold = 150\n",
    "    cannyimage = canny(gausimage, low_threshold, high_threshold)\n",
    "    # Foruth pipeline is to select the region of interest or mask image\n",
    "    imshape = cannyimage.shape\n",
    "    vertices = np.array([[(0,660),(650, 430), (690, 430), (imshape[1],660)]], dtype=np.int32)\n",
    "    maskimage = region_of_interest(cannyimage,vertices)\n",
    "    # Fifth pipeline is to hough space transformation\n",
    "    rho = 2 # distance resolution in pixels of the Hough grid\n",
    "    theta = np.pi/180 # angular resolution in radians of the Hough grid\n",
    "    threshold = 20     # minimum number of votes (intersections in Hough grid cell)\n",
    "    min_line_length = 10 #minimum number of pixels making up a line\n",
    "    max_line_gap = 200    # maximum gap in pixels between connectable line segments\n",
    "    houghimage, detectlines = hough_lines(maskimage, rho, theta, \n",
    "                             threshold, min_line_length, max_line_gap)\n",
    "    return detectlines"
   ]
  },
  {
   "cell_type": "code",
   "execution_count": null,
   "metadata": {
    "collapsed": true
   },
   "outputs": [],
   "source": [
    "def slope_xy_avg(detectlines):\n",
    "    leftlaneslope = []\n",
    "    rightlaneslope = []\n",
    "    leftintercept = []\n",
    "    rightintercept = []\n",
    "    leftlength = []\n",
    "    rightlength = []\n",
    "    count1 = 0\n",
    "    count2 = 0\n",
    "    for line in detectlines:\n",
    "        for x1, y1, x2, y2 in line:\n",
    "            if x2==x1 or y1==y2:\n",
    "                continue # ignore grid\n",
    "            slope = (y2-y1)/(x2-x1)\n",
    "            intercept = y1 - slope*x1\n",
    "            length = np.sqrt((y2-y1)**2+(x2-x1)**2)\n",
    "            if slope>0:\n",
    "                count1 = count1 + 1\n",
    "                leftlaneslope.append(slope)\n",
    "                leftintercept.append(intercept)\n",
    "                leftlength.append(length)\n",
    "            else:\n",
    "                count2 = count1 + 1\n",
    "                rightlaneslope.append(slope)\n",
    "                rightintercept.append(intercept)\n",
    "                rightlength.append(length)\n",
    "    leftslope = np.dot(leftlaneslope, leftlength) / np.sum(leftlength)\n",
    "    rightslope = np.dot(rightlaneslope, rightlength) / np.sum(rightlength)\n",
    "    leftintercept = np.dot(leftintercept, leftlength) / np.sum(leftlength)\n",
    "    rightintercept = np.dot(rightintercept, rightlength) / np.sum(rightlength)\n",
    "    return leftslope, rightslope, leftintercept, rightintercept\n",
    "            \n",
    "global lslope\n",
    "global rslope\n",
    "global lintercept\n",
    "global rintercept\n",
    "def slope_xy_detect(framebuffer):\n",
    "    leftslope = 0\n",
    "    rightslope = 0\n",
    "    leftintercept = 0\n",
    "    rightintercept = 0\n",
    "    count = len(framebuffer)\n",
    "    for frame in framebuffer:\n",
    "        lines = line_detect(frame)\n",
    "        lslope, rslope, lintercept, rintercept = slope_xy_avg(lines)\n",
    "        leftslope = (leftslope + lslope)\n",
    "        rightslope = (rightslope + rslope)\n",
    "        leftintercept = (leftintercept + lintercept)\n",
    "        rightintercept = (rightintercept + rintercept)\n",
    "    leftslope = leftslope / count\n",
    "    rightslope = rightslope / count\n",
    "    leftintercept = leftintercept / count\n",
    "    rightintercept = rightintercept / count\n",
    "    return leftslope, rightslope, leftintercept, rightintercept"
   ]
  },
  {
   "cell_type": "code",
   "execution_count": null,
   "metadata": {
    "collapsed": true
   },
   "outputs": [],
   "source": [
    "def draw_line(y1, y2, slope, intercept):\n",
    "    x1 = int((y1 - intercept)/slope)\n",
    "    x2 = int((y2 - intercept)/slope)\n",
    "    y1 = int(y1)\n",
    "    y2 = int(y2)\n",
    "    return ((x1, y1), (x2, y2))\n",
    "\n",
    "def draw_lane(frame, leftslope, rightslope, leftintercept, rightintercept):\n",
    "    color = [0, 0, 255] # red lane\n",
    "    thickness = 20\n",
    "    lane_image = np.zeros_like(frame)\n",
    "    y1 = frame.shape[0] \n",
    "    y2 = y1*0.6 \n",
    "    left_lane  = draw_line(y1, y2, leftslope, leftintercept)\n",
    "    right_lane = draw_line(y1, y2, rightslope, rightintercept)\n",
    "    cv2.line(lane_image, *left_lane, color, thickness)\n",
    "    cv2.line(lane_image, *right_lane, color, thickness)\n",
    "    return lane_image\n",
    "\n",
    "def lane_detect(framebuffer):    \n",
    "    # additional pipeline to correct distortion\n",
    "    # framebuffer = distort_correct(framebuffer)\n",
    "    # First pipeline is to detect the lane slopes\n",
    "    lslope, rslope, lintercept, rintercept = slope_xy_detect(framebuffer)\n",
    "    # print(lslope, rslope, lintercept, rintercept)\n",
    "    # Second pipeline is to draw the lane image\n",
    "    laneimage = draw_lane(framebuffer[0], lslope, rslope, lintercept, rintercept)\n",
    "    return laneimage"
   ]
  },
  {
   "cell_type": "code",
   "execution_count": null,
   "metadata": {
    "collapsed": true
   },
   "outputs": [],
   "source": [
    "def listshift(l, n):\n",
    "    return l[n:] + l[:n]"
   ]
  },
  {
   "cell_type": "markdown",
   "metadata": {},
   "source": [
    "## Test on Videos\n",
    "\n",
    "We are testing our solution on three provided videos:\n",
    "\n",
    "`solidWhiteRight.mp4`\n",
    "\n",
    "`solidYellowLeft.mp4`\n",
    "\n",
    "`challenge.mp4`\n"
   ]
  },
  {
   "cell_type": "code",
   "execution_count": null,
   "metadata": {
    "collapsed": true
   },
   "outputs": [],
   "source": [
    "# Define Variables\n",
    "font                   = cv2.FONT_HERSHEY_SIMPLEX\n",
    "UpLeftCornerOfText     = (60,40)\n",
    "UpRightCornerOfText    = (800,40)\n",
    "fontScale              = 1\n",
    "fontColor              = (0,0,255)\n",
    "lineThick              = 1\n",
    "lineType               = cv2.LINE_AA\n",
    "fps                    = 10\n",
    "framebuffersize        = 10\n",
    "framebuffer            = []"
   ]
  },
  {
   "cell_type": "code",
   "execution_count": null,
   "metadata": {},
   "outputs": [],
   "source": [
    "# The video processing loop \n",
    "while(True):\n",
    "\n",
    "# Define the OpenCV parameters   \n",
    "    # read the video source\n",
    "    cap = cv2.VideoCapture('test_videos/challenge.mp4')\n",
    "    capfps = cap.get(cv2.CAP_PROP_FPS)  \n",
    "    # Get current width of frame\n",
    "    frame_width = cap.get(cv2.CAP_PROP_FRAME_WIDTH)   # float\n",
    "    # Get current height of frame\n",
    "    frame_height = cap.get(cv2.CAP_PROP_FRAME_HEIGHT) # float\n",
    "    # Define the output file\n",
    "    filename = 'result/outvideo.avi'\n",
    "    # Define the codec and create VideoWriter object\n",
    "    fourcc = cv2.VideoWriter_fourcc(*'XVID')\n",
    "    framepersec = fps if fps <= capfps else capfps\n",
    "    out = cv2.VideoWriter(filename, fourcc,\n",
    "            int(framepersec), (int(frame_width),int(frame_height)))\n",
    "\n",
    "    # The frame processing loop    \n",
    "    while(cap.isOpened()):\n",
    "\n",
    "        # Firstly buffer a given number of frame for lane identification.       \n",
    "        # Capture frame-by-frame\n",
    "        ret, frame = cap.read()\n",
    "        if ret == True:\n",
    "            imshape = frame.shape\n",
    "            # create a frame buffer\n",
    "            if len(framebuffer) < framebuffersize:\n",
    "                framebuffer.append(frame)\n",
    "                continue\n",
    "            else:\n",
    "                framebuffer = listshift(framebuffer, -1)\n",
    "                framebuffer[0] = frame\n",
    "\n",
    "            # The major lane finding pipeline           \n",
    "            # detect the lane and draw in a image\n",
    "            lane = lane_detect(framebuffer)\n",
    "\n",
    "            # Merge the anotated image to the orignal one            \n",
    "            # merge the lane image with current frame\n",
    "            wimage = weighted_img(lane, frame)\n",
    "\n",
    "            # Using 'q' on keyboard to control the exit of programe  \n",
    "            cv2.putText(wimage, 'Press \\'q\\' to pause and quit', UpLeftCornerOfText,\n",
    "                    font, fontScale, fontColor, lineThick, lineType)   \n",
    "            # indicate the frame per second   \n",
    "            if int(fps)<=int(capfps):\n",
    "                cv2.putText(wimage, str(int(fps))+' FPS', UpRightCornerOfText,\n",
    "                        font, fontScale, fontColor, lineThick, lineType)\n",
    "            else:\n",
    "                cv2.putText(wimage, str(capfps)+' FPS', UpRightCornerOfText,\n",
    "                        font, fontScale, fontColor, lineThick, lineType)\n",
    "            # Saves for video\n",
    "            out.write(wimage)\n",
    "            # Display the resulting frame\n",
    "            cv2.imshow('frame',wimage)\n",
    "            # video play exit\n",
    "            if cv2.waitKey(int(1000/fps)) & 0xFF == ord('q'):\n",
    "                break\n",
    "        else:\n",
    "            break\n",
    "    # process exit\n",
    "    if cv2.waitKey(0) & 0xFF == ord('q'):\n",
    "        break"
   ]
  },
  {
   "cell_type": "code",
   "execution_count": null,
   "metadata": {
    "collapsed": true
   },
   "outputs": [],
   "source": [
    "# When everything done, release the capture\n",
    "cap.release()\n",
    "out.release()\n",
    "cv2.destroyAllWindows()"
   ]
  },
  {
   "cell_type": "code",
   "execution_count": null,
   "metadata": {
    "collapsed": true
   },
   "outputs": [],
   "source": []
  },
  {
   "cell_type": "code",
   "execution_count": null,
   "metadata": {
    "collapsed": true
   },
   "outputs": [],
   "source": []
  }
 ],
 "metadata": {
  "anaconda-cloud": {},
  "kernelspec": {
   "display_name": "Python 3",
   "language": "python",
   "name": "python3"
  },
  "language_info": {
   "codemirror_mode": {
    "name": "ipython",
    "version": 3
   },
   "file_extension": ".py",
   "mimetype": "text/x-python",
   "name": "python",
   "nbconvert_exporter": "python",
   "pygments_lexer": "ipython3",
   "version": "3.5.2"
  },
  "widgets": {
   "state": {},
   "version": "1.1.2"
  }
 },
 "nbformat": 4,
 "nbformat_minor": 1
}
